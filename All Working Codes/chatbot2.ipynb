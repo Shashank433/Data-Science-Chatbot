{
  "nbformat": 4,
  "nbformat_minor": 0,
  "metadata": {
    "colab": {
      "name": "chatbot2.ipynb",
      "provenance": [],
      "collapsed_sections": []
    },
    "kernelspec": {
      "name": "python3",
      "display_name": "Python 3"
    },
    "language_info": {
      "name": "python"
    }
  },
  "cells": [
    {
      "cell_type": "code",
      "execution_count": 11,
      "metadata": {
        "id": "YgaIMYdaWSi3"
      },
      "outputs": [],
      "source": [
        "import json\n",
        "import os\n",
        "\n",
        "import json\n",
        "with open('/content/Eda_Boosting_networkanalytics_NLP_errorfunction_Ordinaryregression.json') as json_file:\n",
        "    data = json.load(json_file)"
      ]
    },
    {
      "cell_type": "code",
      "source": [
        "data = data['data'][0]\n",
        "data=data['paragraphs']"
      ],
      "metadata": {
        "id": "WtpAVwdzXPCI"
      },
      "execution_count": 12,
      "outputs": []
    },
    {
      "cell_type": "code",
      "source": [
        "for i in data:\n",
        "  d=i['qas']\n",
        "\n",
        "questions=[]\n",
        "answers=[]\n",
        "\n",
        "for j in d:\n",
        "  questions.append(j['question'])\n",
        "  for k in j['answers']:\n",
        "    answers.append(k['text'])\n",
        "print('Done')"
      ],
      "metadata": {
        "colab": {
          "base_uri": "https://localhost:8080/"
        },
        "id": "4zU8MJ7_W2Lz",
        "outputId": "6797ce13-e15b-44da-efc3-144d5fc41787"
      },
      "execution_count": 18,
      "outputs": [
        {
          "output_type": "stream",
          "name": "stdout",
          "text": [
            "Done\n"
          ]
        }
      ]
    },
    {
      "cell_type": "code",
      "source": [
        "questions[:5]"
      ],
      "metadata": {
        "colab": {
          "base_uri": "https://localhost:8080/"
        },
        "id": "-oCdYD5GW9iH",
        "outputId": "93345874-42ec-4c56-9b9b-67b0c5819114"
      },
      "execution_count": 23,
      "outputs": [
        {
          "output_type": "execute_result",
          "data": {
            "text/plain": [
              "['What is Heat map',\n",
              " 'What is EDA library',\n",
              " 'How can you define an empirical relationship in dataset',\n",
              " 'Which plots used for Plotting the raw data',\n",
              " 'What is the purpose of visualization']"
            ]
          },
          "metadata": {},
          "execution_count": 23
        }
      ]
    },
    {
      "cell_type": "code",
      "source": [
        "answers[:5]"
      ],
      "metadata": {
        "colab": {
          "base_uri": "https://localhost:8080/"
        },
        "id": "ZuPiwoFKYrHM",
        "outputId": "3b1c3ef3-5524-48c4-da40-41d1d1048ef5"
      },
      "execution_count": 22,
      "outputs": [
        {
          "output_type": "execute_result",
          "data": {
            "text/plain": [
              "['Heat map is a graphical representation of data where values are depicted by color',\n",
              " '.Pandas Profiling is the auto EDA library is an open source option that is written in python',\n",
              " 'Mean, median, and mode are closely connected by the following relations called an empirical relationship',\n",
              " 'For row data histograms, bihistograms, probability plots, lag plots, block plots, and Youden plots',\n",
              " '.It gives assessment not exactness']"
            ]
          },
          "metadata": {},
          "execution_count": 22
        }
      ]
    },
    {
      "cell_type": "code",
      "source": [
        "import pandas as pd\n",
        "df=pd.DataFrame({'questions':questions,'answers':answers})\n",
        "df.head()"
      ],
      "metadata": {
        "colab": {
          "base_uri": "https://localhost:8080/",
          "height": 206
        },
        "id": "My0xRSqeYu9d",
        "outputId": "4d023e56-3bdc-4c88-f561-40799dee47bc"
      },
      "execution_count": 35,
      "outputs": [
        {
          "output_type": "execute_result",
          "data": {
            "text/html": [
              "\n",
              "  <div id=\"df-b51f49e8-db4f-4f25-ac33-a76231e3aad0\">\n",
              "    <div class=\"colab-df-container\">\n",
              "      <div>\n",
              "<style scoped>\n",
              "    .dataframe tbody tr th:only-of-type {\n",
              "        vertical-align: middle;\n",
              "    }\n",
              "\n",
              "    .dataframe tbody tr th {\n",
              "        vertical-align: top;\n",
              "    }\n",
              "\n",
              "    .dataframe thead th {\n",
              "        text-align: right;\n",
              "    }\n",
              "</style>\n",
              "<table border=\"1\" class=\"dataframe\">\n",
              "  <thead>\n",
              "    <tr style=\"text-align: right;\">\n",
              "      <th></th>\n",
              "      <th>questions</th>\n",
              "      <th>answers</th>\n",
              "    </tr>\n",
              "  </thead>\n",
              "  <tbody>\n",
              "    <tr>\n",
              "      <th>0</th>\n",
              "      <td>What is Heat map</td>\n",
              "      <td>Heat map is a graphical representation of data...</td>\n",
              "    </tr>\n",
              "    <tr>\n",
              "      <th>1</th>\n",
              "      <td>What is EDA library</td>\n",
              "      <td>.Pandas Profiling is the auto EDA library is a...</td>\n",
              "    </tr>\n",
              "    <tr>\n",
              "      <th>2</th>\n",
              "      <td>How can you define an empirical relationship i...</td>\n",
              "      <td>Mean, median, and mode are closely connected b...</td>\n",
              "    </tr>\n",
              "    <tr>\n",
              "      <th>3</th>\n",
              "      <td>Which plots used for Plotting the raw data</td>\n",
              "      <td>For row data histograms, bihistograms, probabi...</td>\n",
              "    </tr>\n",
              "    <tr>\n",
              "      <th>4</th>\n",
              "      <td>What is the purpose of visualization</td>\n",
              "      <td>.It gives assessment not exactness</td>\n",
              "    </tr>\n",
              "  </tbody>\n",
              "</table>\n",
              "</div>\n",
              "      <button class=\"colab-df-convert\" onclick=\"convertToInteractive('df-b51f49e8-db4f-4f25-ac33-a76231e3aad0')\"\n",
              "              title=\"Convert this dataframe to an interactive table.\"\n",
              "              style=\"display:none;\">\n",
              "        \n",
              "  <svg xmlns=\"http://www.w3.org/2000/svg\" height=\"24px\"viewBox=\"0 0 24 24\"\n",
              "       width=\"24px\">\n",
              "    <path d=\"M0 0h24v24H0V0z\" fill=\"none\"/>\n",
              "    <path d=\"M18.56 5.44l.94 2.06.94-2.06 2.06-.94-2.06-.94-.94-2.06-.94 2.06-2.06.94zm-11 1L8.5 8.5l.94-2.06 2.06-.94-2.06-.94L8.5 2.5l-.94 2.06-2.06.94zm10 10l.94 2.06.94-2.06 2.06-.94-2.06-.94-.94-2.06-.94 2.06-2.06.94z\"/><path d=\"M17.41 7.96l-1.37-1.37c-.4-.4-.92-.59-1.43-.59-.52 0-1.04.2-1.43.59L10.3 9.45l-7.72 7.72c-.78.78-.78 2.05 0 2.83L4 21.41c.39.39.9.59 1.41.59.51 0 1.02-.2 1.41-.59l7.78-7.78 2.81-2.81c.8-.78.8-2.07 0-2.86zM5.41 20L4 18.59l7.72-7.72 1.47 1.35L5.41 20z\"/>\n",
              "  </svg>\n",
              "      </button>\n",
              "      \n",
              "  <style>\n",
              "    .colab-df-container {\n",
              "      display:flex;\n",
              "      flex-wrap:wrap;\n",
              "      gap: 12px;\n",
              "    }\n",
              "\n",
              "    .colab-df-convert {\n",
              "      background-color: #E8F0FE;\n",
              "      border: none;\n",
              "      border-radius: 50%;\n",
              "      cursor: pointer;\n",
              "      display: none;\n",
              "      fill: #1967D2;\n",
              "      height: 32px;\n",
              "      padding: 0 0 0 0;\n",
              "      width: 32px;\n",
              "    }\n",
              "\n",
              "    .colab-df-convert:hover {\n",
              "      background-color: #E2EBFA;\n",
              "      box-shadow: 0px 1px 2px rgba(60, 64, 67, 0.3), 0px 1px 3px 1px rgba(60, 64, 67, 0.15);\n",
              "      fill: #174EA6;\n",
              "    }\n",
              "\n",
              "    [theme=dark] .colab-df-convert {\n",
              "      background-color: #3B4455;\n",
              "      fill: #D2E3FC;\n",
              "    }\n",
              "\n",
              "    [theme=dark] .colab-df-convert:hover {\n",
              "      background-color: #434B5C;\n",
              "      box-shadow: 0px 1px 3px 1px rgba(0, 0, 0, 0.15);\n",
              "      filter: drop-shadow(0px 1px 2px rgba(0, 0, 0, 0.3));\n",
              "      fill: #FFFFFF;\n",
              "    }\n",
              "  </style>\n",
              "\n",
              "      <script>\n",
              "        const buttonEl =\n",
              "          document.querySelector('#df-b51f49e8-db4f-4f25-ac33-a76231e3aad0 button.colab-df-convert');\n",
              "        buttonEl.style.display =\n",
              "          google.colab.kernel.accessAllowed ? 'block' : 'none';\n",
              "\n",
              "        async function convertToInteractive(key) {\n",
              "          const element = document.querySelector('#df-b51f49e8-db4f-4f25-ac33-a76231e3aad0');\n",
              "          const dataTable =\n",
              "            await google.colab.kernel.invokeFunction('convertToInteractive',\n",
              "                                                     [key], {});\n",
              "          if (!dataTable) return;\n",
              "\n",
              "          const docLinkHtml = 'Like what you see? Visit the ' +\n",
              "            '<a target=\"_blank\" href=https://colab.research.google.com/notebooks/data_table.ipynb>data table notebook</a>'\n",
              "            + ' to learn more about interactive tables.';\n",
              "          element.innerHTML = '';\n",
              "          dataTable['output_type'] = 'display_data';\n",
              "          await google.colab.output.renderOutput(dataTable, element);\n",
              "          const docLink = document.createElement('div');\n",
              "          docLink.innerHTML = docLinkHtml;\n",
              "          element.appendChild(docLink);\n",
              "        }\n",
              "      </script>\n",
              "    </div>\n",
              "  </div>\n",
              "  "
            ],
            "text/plain": [
              "                                           questions                                            answers\n",
              "0                                   What is Heat map  Heat map is a graphical representation of data...\n",
              "1                                What is EDA library  .Pandas Profiling is the auto EDA library is a...\n",
              "2  How can you define an empirical relationship i...  Mean, median, and mode are closely connected b...\n",
              "3         Which plots used for Plotting the raw data  For row data histograms, bihistograms, probabi...\n",
              "4               What is the purpose of visualization                 .It gives assessment not exactness"
            ]
          },
          "metadata": {},
          "execution_count": 35
        }
      ]
    },
    {
      "cell_type": "code",
      "source": [
        "!pip install autocorrect\n",
        "import nltk\n",
        "import re\n",
        "from autocorrect import Speller\n",
        "from nltk import word_tokenize\n",
        "nltk.download('stopwords')\n",
        "from nltk.corpus import stopwords\n",
        "nltk.download('wordnet')\n",
        "from nltk.stem.wordnet import WordNetLemmatizer\n",
        "\n",
        "from sklearn.feature_extraction.text import TfidfVectorizer\n",
        "from sklearn.metrics.pairwise import cosine_similarity\n",
        "import warnings\n",
        "warnings.filterwarnings(\"ignore\")"
      ],
      "metadata": {
        "colab": {
          "base_uri": "https://localhost:8080/"
        },
        "id": "pXCxQ037Y8bD",
        "outputId": "6f8297b1-704f-4b8e-9414-4bc2bb163a0e"
      },
      "execution_count": 25,
      "outputs": [
        {
          "output_type": "stream",
          "name": "stdout",
          "text": [
            "Collecting autocorrect\n",
            "  Downloading autocorrect-2.6.1.tar.gz (622 kB)\n",
            "\u001b[?25l\r\u001b[K     |▌                               | 10 kB 22.7 MB/s eta 0:00:01\r\u001b[K     |█                               | 20 kB 16.9 MB/s eta 0:00:01\r\u001b[K     |█▋                              | 30 kB 10.5 MB/s eta 0:00:01\r\u001b[K     |██                              | 40 kB 9.3 MB/s eta 0:00:01\r\u001b[K     |██▋                             | 51 kB 4.4 MB/s eta 0:00:01\r\u001b[K     |███▏                            | 61 kB 5.2 MB/s eta 0:00:01\r\u001b[K     |███▊                            | 71 kB 5.6 MB/s eta 0:00:01\r\u001b[K     |████▏                           | 81 kB 5.8 MB/s eta 0:00:01\r\u001b[K     |████▊                           | 92 kB 6.4 MB/s eta 0:00:01\r\u001b[K     |█████▎                          | 102 kB 5.0 MB/s eta 0:00:01\r\u001b[K     |█████▉                          | 112 kB 5.0 MB/s eta 0:00:01\r\u001b[K     |██████▎                         | 122 kB 5.0 MB/s eta 0:00:01\r\u001b[K     |██████▉                         | 133 kB 5.0 MB/s eta 0:00:01\r\u001b[K     |███████▍                        | 143 kB 5.0 MB/s eta 0:00:01\r\u001b[K     |████████                        | 153 kB 5.0 MB/s eta 0:00:01\r\u001b[K     |████████▍                       | 163 kB 5.0 MB/s eta 0:00:01\r\u001b[K     |█████████                       | 174 kB 5.0 MB/s eta 0:00:01\r\u001b[K     |█████████▌                      | 184 kB 5.0 MB/s eta 0:00:01\r\u001b[K     |██████████                      | 194 kB 5.0 MB/s eta 0:00:01\r\u001b[K     |██████████▌                     | 204 kB 5.0 MB/s eta 0:00:01\r\u001b[K     |███████████                     | 215 kB 5.0 MB/s eta 0:00:01\r\u001b[K     |███████████▋                    | 225 kB 5.0 MB/s eta 0:00:01\r\u001b[K     |████████████                    | 235 kB 5.0 MB/s eta 0:00:01\r\u001b[K     |████████████▋                   | 245 kB 5.0 MB/s eta 0:00:01\r\u001b[K     |█████████████▏                  | 256 kB 5.0 MB/s eta 0:00:01\r\u001b[K     |█████████████▊                  | 266 kB 5.0 MB/s eta 0:00:01\r\u001b[K     |██████████████▏                 | 276 kB 5.0 MB/s eta 0:00:01\r\u001b[K     |██████████████▊                 | 286 kB 5.0 MB/s eta 0:00:01\r\u001b[K     |███████████████▎                | 296 kB 5.0 MB/s eta 0:00:01\r\u001b[K     |███████████████▉                | 307 kB 5.0 MB/s eta 0:00:01\r\u001b[K     |████████████████▎               | 317 kB 5.0 MB/s eta 0:00:01\r\u001b[K     |████████████████▉               | 327 kB 5.0 MB/s eta 0:00:01\r\u001b[K     |█████████████████▍              | 337 kB 5.0 MB/s eta 0:00:01\r\u001b[K     |██████████████████              | 348 kB 5.0 MB/s eta 0:00:01\r\u001b[K     |██████████████████▍             | 358 kB 5.0 MB/s eta 0:00:01\r\u001b[K     |███████████████████             | 368 kB 5.0 MB/s eta 0:00:01\r\u001b[K     |███████████████████▌            | 378 kB 5.0 MB/s eta 0:00:01\r\u001b[K     |████████████████████            | 389 kB 5.0 MB/s eta 0:00:01\r\u001b[K     |████████████████████▌           | 399 kB 5.0 MB/s eta 0:00:01\r\u001b[K     |█████████████████████           | 409 kB 5.0 MB/s eta 0:00:01\r\u001b[K     |█████████████████████▋          | 419 kB 5.0 MB/s eta 0:00:01\r\u001b[K     |██████████████████████          | 430 kB 5.0 MB/s eta 0:00:01\r\u001b[K     |██████████████████████▋         | 440 kB 5.0 MB/s eta 0:00:01\r\u001b[K     |███████████████████████▏        | 450 kB 5.0 MB/s eta 0:00:01\r\u001b[K     |███████████████████████▊        | 460 kB 5.0 MB/s eta 0:00:01\r\u001b[K     |████████████████████████▏       | 471 kB 5.0 MB/s eta 0:00:01\r\u001b[K     |████████████████████████▊       | 481 kB 5.0 MB/s eta 0:00:01\r\u001b[K     |█████████████████████████▎      | 491 kB 5.0 MB/s eta 0:00:01\r\u001b[K     |█████████████████████████▉      | 501 kB 5.0 MB/s eta 0:00:01\r\u001b[K     |██████████████████████████▎     | 512 kB 5.0 MB/s eta 0:00:01\r\u001b[K     |██████████████████████████▉     | 522 kB 5.0 MB/s eta 0:00:01\r\u001b[K     |███████████████████████████▍    | 532 kB 5.0 MB/s eta 0:00:01\r\u001b[K     |███████████████████████████▉    | 542 kB 5.0 MB/s eta 0:00:01\r\u001b[K     |████████████████████████████▍   | 552 kB 5.0 MB/s eta 0:00:01\r\u001b[K     |█████████████████████████████   | 563 kB 5.0 MB/s eta 0:00:01\r\u001b[K     |█████████████████████████████▌  | 573 kB 5.0 MB/s eta 0:00:01\r\u001b[K     |██████████████████████████████  | 583 kB 5.0 MB/s eta 0:00:01\r\u001b[K     |██████████████████████████████▌ | 593 kB 5.0 MB/s eta 0:00:01\r\u001b[K     |███████████████████████████████ | 604 kB 5.0 MB/s eta 0:00:01\r\u001b[K     |███████████████████████████████▋| 614 kB 5.0 MB/s eta 0:00:01\r\u001b[K     |████████████████████████████████| 622 kB 5.0 MB/s \n",
            "\u001b[?25hBuilding wheels for collected packages: autocorrect\n",
            "  Building wheel for autocorrect (setup.py) ... \u001b[?25l\u001b[?25hdone\n",
            "  Created wheel for autocorrect: filename=autocorrect-2.6.1-py3-none-any.whl size=622382 sha256=951ab8b35a1fca1b79b8714b1902693cbbe116a4447d2870c2ef6412045e6ad2\n",
            "  Stored in directory: /root/.cache/pip/wheels/54/d4/37/8244101ad50b0f7d9bffd93ce58ed7991ee1753b290923934b\n",
            "Successfully built autocorrect\n",
            "Installing collected packages: autocorrect\n",
            "Successfully installed autocorrect-2.6.1\n",
            "[nltk_data] Downloading package stopwords to /root/nltk_data...\n",
            "[nltk_data]   Unzipping corpora/stopwords.zip.\n",
            "[nltk_data] Downloading package wordnet to /root/nltk_data...\n",
            "[nltk_data]   Unzipping corpora/wordnet.zip.\n"
          ]
        }
      ]
    },
    {
      "cell_type": "code",
      "source": [
        "len(df)"
      ],
      "metadata": {
        "colab": {
          "base_uri": "https://localhost:8080/"
        },
        "id": "lCUgj3LXbm0r",
        "outputId": "27c869cb-7197-468c-f6ae-e585d77aee5d"
      },
      "execution_count": 26,
      "outputs": [
        {
          "output_type": "execute_result",
          "data": {
            "text/plain": [
              "1127"
            ]
          },
          "metadata": {},
          "execution_count": 26
        }
      ]
    },
    {
      "cell_type": "code",
      "source": [
        "for idx , row in df.iterrows():\n",
        "  print(row['questions'])\n",
        "  print(row['answers'])\n",
        "  break"
      ],
      "metadata": {
        "colab": {
          "base_uri": "https://localhost:8080/"
        },
        "id": "R0G2g-gIb2Y8",
        "outputId": "aa87a7a9-e66f-4209-ee95-5f539dd9f888"
      },
      "execution_count": 28,
      "outputs": [
        {
          "output_type": "stream",
          "name": "stdout",
          "text": [
            "What is Heat map\n",
            "Heat map is a graphical representation of data where values are depicted by color\n"
          ]
        }
      ]
    },
    {
      "cell_type": "code",
      "source": [
        "nltk.download('punkt')"
      ],
      "metadata": {
        "colab": {
          "base_uri": "https://localhost:8080/"
        },
        "id": "4wuKmrPceg1M",
        "outputId": "2d145ee8-2fd8-44a9-a0d9-47b5385dfc35"
      },
      "execution_count": 31,
      "outputs": [
        {
          "output_type": "stream",
          "name": "stdout",
          "text": [
            "[nltk_data] Downloading package punkt to /root/nltk_data...\n",
            "[nltk_data]   Unzipping tokenizers/punkt.zip.\n"
          ]
        },
        {
          "output_type": "execute_result",
          "data": {
            "text/plain": [
              "True"
            ]
          },
          "metadata": {},
          "execution_count": 31
        }
      ]
    },
    {
      "cell_type": "code",
      "source": [
        "from tqdm import tqdm\n",
        "\n",
        "def preprocess(df):\n",
        "  spell = Speller(lang= 'en')\n",
        "  lemmatizer = WordNetLemmatizer()\n",
        "  stop_words = stopwords.words('english')\n",
        "\n",
        "  for idx , row in tqdm(df.iterrows()):\n",
        "    row['questions']=row['questions'].lower()\n",
        "    row['answers']=row['answers'].lower()\n",
        "    re.sub(r'([^\\s\\w]|_)+', ' ', row['questions'])\n",
        "    re.sub(r'([^\\s\\w]|_)+', ' ', row['answers'])\n",
        "\n",
        "    row['questions'] = spell(row['questions'])\n",
        "    row['answers'] = spell(row['answers'])\n",
        "\n",
        "    row['questions'] = word_tokenize(row['questions'])\n",
        "  \n",
        "    row['questions'] = ' '.join([j for j in row['questions'] if j not in stop_words])\n",
        "  "
      ],
      "metadata": {
        "id": "rvZoKft-Zjom"
      },
      "execution_count": 36,
      "outputs": []
    },
    {
      "cell_type": "code",
      "source": [
        "preprocess(df)"
      ],
      "metadata": {
        "colab": {
          "base_uri": "https://localhost:8080/"
        },
        "id": "ixMl7q3YeUgM",
        "outputId": "ba77b313-78e4-458e-a355-3e5d22fbc5d5"
      },
      "execution_count": 37,
      "outputs": [
        {
          "output_type": "stream",
          "name": "stderr",
          "text": [
            "1127it [02:04,  9.04it/s]\n"
          ]
        }
      ]
    },
    {
      "cell_type": "code",
      "source": [
        "df.head()"
      ],
      "metadata": {
        "colab": {
          "base_uri": "https://localhost:8080/",
          "height": 206
        },
        "id": "qxBjmLSveW4n",
        "outputId": "e337b666-574c-4d1c-a6ab-9febcfe15b9a"
      },
      "execution_count": 38,
      "outputs": [
        {
          "output_type": "execute_result",
          "data": {
            "text/html": [
              "\n",
              "  <div id=\"df-29d010ea-42e4-41cd-a996-f0d4b59d44d1\">\n",
              "    <div class=\"colab-df-container\">\n",
              "      <div>\n",
              "<style scoped>\n",
              "    .dataframe tbody tr th:only-of-type {\n",
              "        vertical-align: middle;\n",
              "    }\n",
              "\n",
              "    .dataframe tbody tr th {\n",
              "        vertical-align: top;\n",
              "    }\n",
              "\n",
              "    .dataframe thead th {\n",
              "        text-align: right;\n",
              "    }\n",
              "</style>\n",
              "<table border=\"1\" class=\"dataframe\">\n",
              "  <thead>\n",
              "    <tr style=\"text-align: right;\">\n",
              "      <th></th>\n",
              "      <th>questions</th>\n",
              "      <th>answers</th>\n",
              "    </tr>\n",
              "  </thead>\n",
              "  <tbody>\n",
              "    <tr>\n",
              "      <th>0</th>\n",
              "      <td>heat map</td>\n",
              "      <td>heat map is a graphical representation of data...</td>\n",
              "    </tr>\n",
              "    <tr>\n",
              "      <th>1</th>\n",
              "      <td>eda library</td>\n",
              "      <td>.panda profiling is the auto eda library is an...</td>\n",
              "    </tr>\n",
              "    <tr>\n",
              "      <th>2</th>\n",
              "      <td>define empirical relationship dataset</td>\n",
              "      <td>mean, median, and mode are closely connected b...</td>\n",
              "    </tr>\n",
              "    <tr>\n",
              "      <th>3</th>\n",
              "      <td>plots used plotting raw data</td>\n",
              "      <td>for row data histograms, bihistograms, probabi...</td>\n",
              "    </tr>\n",
              "    <tr>\n",
              "      <th>4</th>\n",
              "      <td>purpose visualization</td>\n",
              "      <td>.it gives assessment not exactness</td>\n",
              "    </tr>\n",
              "  </tbody>\n",
              "</table>\n",
              "</div>\n",
              "      <button class=\"colab-df-convert\" onclick=\"convertToInteractive('df-29d010ea-42e4-41cd-a996-f0d4b59d44d1')\"\n",
              "              title=\"Convert this dataframe to an interactive table.\"\n",
              "              style=\"display:none;\">\n",
              "        \n",
              "  <svg xmlns=\"http://www.w3.org/2000/svg\" height=\"24px\"viewBox=\"0 0 24 24\"\n",
              "       width=\"24px\">\n",
              "    <path d=\"M0 0h24v24H0V0z\" fill=\"none\"/>\n",
              "    <path d=\"M18.56 5.44l.94 2.06.94-2.06 2.06-.94-2.06-.94-.94-2.06-.94 2.06-2.06.94zm-11 1L8.5 8.5l.94-2.06 2.06-.94-2.06-.94L8.5 2.5l-.94 2.06-2.06.94zm10 10l.94 2.06.94-2.06 2.06-.94-2.06-.94-.94-2.06-.94 2.06-2.06.94z\"/><path d=\"M17.41 7.96l-1.37-1.37c-.4-.4-.92-.59-1.43-.59-.52 0-1.04.2-1.43.59L10.3 9.45l-7.72 7.72c-.78.78-.78 2.05 0 2.83L4 21.41c.39.39.9.59 1.41.59.51 0 1.02-.2 1.41-.59l7.78-7.78 2.81-2.81c.8-.78.8-2.07 0-2.86zM5.41 20L4 18.59l7.72-7.72 1.47 1.35L5.41 20z\"/>\n",
              "  </svg>\n",
              "      </button>\n",
              "      \n",
              "  <style>\n",
              "    .colab-df-container {\n",
              "      display:flex;\n",
              "      flex-wrap:wrap;\n",
              "      gap: 12px;\n",
              "    }\n",
              "\n",
              "    .colab-df-convert {\n",
              "      background-color: #E8F0FE;\n",
              "      border: none;\n",
              "      border-radius: 50%;\n",
              "      cursor: pointer;\n",
              "      display: none;\n",
              "      fill: #1967D2;\n",
              "      height: 32px;\n",
              "      padding: 0 0 0 0;\n",
              "      width: 32px;\n",
              "    }\n",
              "\n",
              "    .colab-df-convert:hover {\n",
              "      background-color: #E2EBFA;\n",
              "      box-shadow: 0px 1px 2px rgba(60, 64, 67, 0.3), 0px 1px 3px 1px rgba(60, 64, 67, 0.15);\n",
              "      fill: #174EA6;\n",
              "    }\n",
              "\n",
              "    [theme=dark] .colab-df-convert {\n",
              "      background-color: #3B4455;\n",
              "      fill: #D2E3FC;\n",
              "    }\n",
              "\n",
              "    [theme=dark] .colab-df-convert:hover {\n",
              "      background-color: #434B5C;\n",
              "      box-shadow: 0px 1px 3px 1px rgba(0, 0, 0, 0.15);\n",
              "      filter: drop-shadow(0px 1px 2px rgba(0, 0, 0, 0.3));\n",
              "      fill: #FFFFFF;\n",
              "    }\n",
              "  </style>\n",
              "\n",
              "      <script>\n",
              "        const buttonEl =\n",
              "          document.querySelector('#df-29d010ea-42e4-41cd-a996-f0d4b59d44d1 button.colab-df-convert');\n",
              "        buttonEl.style.display =\n",
              "          google.colab.kernel.accessAllowed ? 'block' : 'none';\n",
              "\n",
              "        async function convertToInteractive(key) {\n",
              "          const element = document.querySelector('#df-29d010ea-42e4-41cd-a996-f0d4b59d44d1');\n",
              "          const dataTable =\n",
              "            await google.colab.kernel.invokeFunction('convertToInteractive',\n",
              "                                                     [key], {});\n",
              "          if (!dataTable) return;\n",
              "\n",
              "          const docLinkHtml = 'Like what you see? Visit the ' +\n",
              "            '<a target=\"_blank\" href=https://colab.research.google.com/notebooks/data_table.ipynb>data table notebook</a>'\n",
              "            + ' to learn more about interactive tables.';\n",
              "          element.innerHTML = '';\n",
              "          dataTable['output_type'] = 'display_data';\n",
              "          await google.colab.output.renderOutput(dataTable, element);\n",
              "          const docLink = document.createElement('div');\n",
              "          docLink.innerHTML = docLinkHtml;\n",
              "          element.appendChild(docLink);\n",
              "        }\n",
              "      </script>\n",
              "    </div>\n",
              "  </div>\n",
              "  "
            ],
            "text/plain": [
              "                               questions                                            answers\n",
              "0                               heat map  heat map is a graphical representation of data...\n",
              "1                            eda library  .panda profiling is the auto eda library is an...\n",
              "2  define empirical relationship dataset  mean, median, and mode are closely connected b...\n",
              "3           plots used plotting raw data  for row data histograms, bihistograms, probabi...\n",
              "4                  purpose visualization                 .it gives assessment not exactness"
            ]
          },
          "metadata": {},
          "execution_count": 38
        }
      ]
    },
    {
      "cell_type": "code",
      "source": [
        "import random\n",
        "import string \n",
        "\n",
        "GREETING_INPUTS = (\"hello\", \"hi\", \"greetings\", \"sup\", \"what's up\",\"hey\",)\n",
        "GREETING_RESPONSES = [\"hi\", \"hey\", \"*nods*\", \"hi there\", \"hello\", \"I am glad! You are talking to me\"]\n",
        "\n",
        "def greeting(sentence):\n",
        "    for word in sentence.split():\n",
        "        if word.lower() in GREETING_INPUTS:\n",
        "            return random.choice(GREETING_RESPONSES)"
      ],
      "metadata": {
        "id": "-qnHXiIAfQH4"
      },
      "execution_count": 39,
      "outputs": []
    },
    {
      "cell_type": "code",
      "source": [
        "def preprocess_text(text):\n",
        "  spell = Speller(lang= 'en')\n",
        "  lemmatizer = WordNetLemmatizer()\n",
        "  stop_words = stopwords.words('english')\n",
        "\n",
        "  text=text.lower()\n",
        "  re.sub(r'([^\\s\\w]|_)+', ' ', text)\n",
        "  text=spell(text)\n",
        "  text=word_tokenize(text)\n",
        "  text=' '.join([j for j in text if j not in stop_words])\n",
        "  return text"
      ],
      "metadata": {
        "id": "3uvR7VeztS6N"
      },
      "execution_count": 72,
      "outputs": []
    },
    {
      "cell_type": "code",
      "source": [
        "def response(user_response,question_token , answer_token):\n",
        "    robo_response=''\n",
        "    TfidfVec = TfidfVectorizer( stop_words='english')\n",
        "    tfidf = TfidfVec.fit_transform(question_token)\n",
        "    vals = cosine_similarity(tfidf[-1], tfidf)\n",
        "    idx=vals.argsort()[0][-2]\n",
        "    flat = vals.flatten()\n",
        "    flat.sort()\n",
        "    req_tfidf = flat[-2]\n",
        "    if(req_tfidf==0):\n",
        "        robo_response=robo_response+\"I am sorry! I don't understand you\"\n",
        "        return robo_response\n",
        "    else:\n",
        "        robo_response = robo_response+answer_token[idx]\n",
        "        return robo_response\n"
      ],
      "metadata": {
        "id": "K9bCSkTWhFRo"
      },
      "execution_count": 92,
      "outputs": []
    },
    {
      "cell_type": "code",
      "source": [
        "flag=True\n",
        "print(\"JarVis: My name is JarVis. I will answer your queries about Data Science. If you want to exit, type Bye!\")\n",
        "question_token = df['questions'].values.tolist()\n",
        "answer_token  = df['answers'].values.tolist()\n",
        "\n",
        "while(flag==True):\n",
        "    user_response = input()\n",
        "    user_response=user_response.lower()\n",
        "    if(user_response!='bye'):\n",
        "        if(user_response=='thanks' or user_response=='thank you' ):\n",
        "            flag=False\n",
        "            print(\"JarVis: You are welcome..\")\n",
        "        else:\n",
        "            if(greeting(user_response)!=None):\n",
        "                print(\"JarVis: \"+greeting(user_response))\n",
        "            else:\n",
        "                user_response=preprocess_text(user_response)\n",
        "                question_token.append(user_response)\n",
        "                #word_tokens=word_tokens+nltk.word_tokenize(user_response)\n",
        "                #final_words=list(set(word_tokens))\n",
        "                print(\"JarVis: \",end=\"\")\n",
        "                print(response(user_response,question_token,answer_token ))\n",
        "                question_token.remove(user_response)\n",
        "    else:\n",
        "        flag=False\n",
        "        print(\"JarVis: Bye! take care..\")  "
      ],
      "metadata": {
        "colab": {
          "base_uri": "https://localhost:8080/"
        },
        "id": "WD4D50Yjwfm6",
        "outputId": "429aff43-f6bb-404f-e2cb-acfb2699a72d"
      },
      "execution_count": 94,
      "outputs": [
        {
          "output_type": "stream",
          "name": "stdout",
          "text": [
            "JarVis: My name is JarVis. I will answer your queries about Data Science. If you want to exit, type Bye!\n",
            "heat map\n",
            "JarVis: heat map is a graphical representation of data where values are depicted by color\n",
            "bye\n",
            "JarVis: Bye! take care..\n"
          ]
        }
      ]
    },
    {
      "cell_type": "code",
      "source": [
        ""
      ],
      "metadata": {
        "id": "Vy0VIK-vxeb_"
      },
      "execution_count": null,
      "outputs": []
    }
  ]
}